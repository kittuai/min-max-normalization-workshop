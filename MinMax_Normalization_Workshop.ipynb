{
 "cells": [
  {
   "cell_type": "markdown",
   "metadata": {},
   "source": [
    "# 🏡 Min-Max Normalization Workshop\n",
    "\n",
    "## Team Number: 7  \n",
    "**Team Members:**  \n",
    "- Fenil  \n",
    "- Preetpal  \n",
    "- Krishna  \n",
    "\n",
    "---\n",
    "\n",
    "In this notebook, we apply **manual Min-Max normalization** to real-world housing data.  \n",
    "We include clear explanations, visual comparisons, and code that keeps original values intact.  \n",
    "All steps are reproducible and follow best practices in data preprocessing.\n"
   ]
  },
  {
   "cell_type": "markdown",
   "metadata": {},
   "source": [
    "## ❗ Why We Normalize: The Problem with Raw Feature Scales\n",
    "\n",
    "In housing data, features like `Price` and `Lot_Size` can have values in the hundreds of thousands, while others like `Num_Bedrooms` range from 1 to 5. This creates problems when we use algorithms that depend on numeric magnitudes.\n",
    "\n",
    "---\n",
    "\n",
    "### ⚠️ What Goes Wrong Without Normalization\n",
    "\n",
    "---\n",
    "\n",
    "### 1. 🧭 K-Nearest Neighbors (KNN)\n",
    "\n",
    "KNN uses the **Euclidean distance** formula:\n",
    "\n",
    "$$\n",
    "d = \\sqrt{(x_1 - x_2)^2 + (y_1 - y_2)^2 + \\cdots}\n",
    "$$\n",
    "\n",
    "**Example:**\n",
    "\n",
    "- $ \\text{Price}_1 = 650{,}000, \\quad \\text{Price}_2 = 250{,}000 $\n",
    "- $ \\text{Bedrooms}_1 = 3, \\quad \\text{Bedrooms}_2 = 2 $\n",
    "\n",
    "Now compute squared differences:\n",
    "\n",
    "$$\n",
    "(\\text{Price}_1 - \\text{Price}_2)^2 = (650{,}000 - 250{,}000)^2 = (400{,}000)^2 = 1.6 \\times 10^{11}\n",
    "$$\n",
    "$$\n",
    "(\\text{Bedrooms}_1 - \\text{Bedrooms}_2)^2 = (3 - 2)^2 = 1\n",
    "$$\n",
    "\n",
    "➡️ **Price dominates the distance calculation**, making smaller features like `Bedrooms` irrelevant.\n",
    "\n",
    "---\n",
    "\n",
    "### 2. 📉 Linear Regression\n",
    "\n",
    "Linear regression estimates:\n",
    "\n",
    "$$\n",
    "y = \\beta_1 \\cdot \\text{Price} + \\beta_2 \\cdot \\text{Bedrooms} + \\beta_3 \\cdot \\text{Lot\\_Size} + \\epsilon\n",
    "$$\n",
    "\n",
    "If `Price` has very large values:\n",
    "- Gradient updates for $ \\beta_1 $ will be **much larger**\n",
    "- Gradient updates for $ \\beta_2 $ (Bedrooms) will be **very small**\n",
    "\n",
    "➡️ The model overfits high-magnitude features like `Price`.\n",
    "\n",
    "---\n",
    "\n",
    "### 3. 🧠 Neural Networks\n",
    "\n",
    "A single neuron computes:\n",
    "\n",
    "$$\n",
    "z = w_1 \\cdot \\text{Price} + w_2 \\cdot \\text{Bedrooms} + w_3 \\cdot \\text{Lot\\_Size}\n",
    "$$\n",
    "\n",
    "If:\n",
    "\n",
    "- $ \\text{Price} = 650{,}000 $\n",
    "- $ \\text{Bedrooms} = 3 $\n",
    "- $ \\text{Lot\\_Size} = 8{,}000 $\n",
    "\n",
    "Then:\n",
    "\n",
    "$$\n",
    "z \\approx w_1 \\cdot 650{,}000 + w_2 \\cdot 3 + w_3 \\cdot 8{,}000\n",
    "$$\n",
    "\n",
    "➡️ Even with equal weights, `Price` contributes **most of the activation**, making it difficult for the network to learn from other features.\n",
    "\n",
    "---\n",
    "\n",
    "### ✅ Solution: Min-Max Normalization\n",
    "\n",
    "We apply the transformation:\n",
    "\n",
    "$$\n",
    "x_{\\text{normalized}} = \\frac{x - x_{\\text{min}}}{x_{\\text{max}} - x_{\\text{min}}}\n",
    "$$\n",
    "\n",
    "This scales all features to a common range (typically $[0, 1]$).\n",
    "\n",
    "| Feature      | Raw Value | Min     | Max     | Normalized Value |\n",
    "|--------------|-----------|---------|---------|------------------|\n",
    "| Price        | 650,000   | 250,000 | 800,000 | 0.72             |\n",
    "| Bedrooms     | 3         | 1       | 5       | 0.50             |\n",
    "| Lot_Size     | 8,000     | 3,000   | 10,000  | 0.714            |\n",
    "\n",
    "➡️ Now, **each feature contributes fairly** to model training or distance comparisons."
   ]
  },
  {
   "cell_type": "markdown",
   "metadata": {},
   "source": [
    "---"
   ]
  },
  {
   "cell_type": "markdown",
   "metadata": {},
   "source": [
    "# In-Class Activity for min-max-normalization-workshop"
   ]
  },
  {
   "cell_type": "markdown",
   "metadata": {},
   "source": [
    "### Step 1: Import Libraries & Load Dataset\n",
    "\n",
    "We use pandas to load and inspect the dataset.  \n",
    "This helps us preview the structure before any processing.\n"
   ]
  },
  {
   "cell_type": "code",
   "execution_count": 1,
   "metadata": {},
   "outputs": [],
   "source": [
    "# Import core libraries\n",
    "import pandas as pd\n",
    "import numpy as np\n",
    "import matplotlib.pyplot as plt\n",
    "import seaborn as sns"
   ]
  },
  {
   "cell_type": "markdown",
   "metadata": {},
   "source": [
    "### Step 2 : Loading the dataset"
   ]
  },
  {
   "cell_type": "code",
   "execution_count": 2,
   "metadata": {},
   "outputs": [
    {
     "data": {
      "application/vnd.microsoft.datawrangler.viewer.v0+json": {
       "columns": [
        {
         "name": "index",
         "rawType": "int64",
         "type": "integer"
        },
        {
         "name": "House_ID",
         "rawType": "object",
         "type": "string"
        },
        {
         "name": "Price",
         "rawType": "int64",
         "type": "integer"
        },
        {
         "name": "Area_sqft",
         "rawType": "int64",
         "type": "integer"
        },
        {
         "name": "Num_Bedrooms",
         "rawType": "int64",
         "type": "integer"
        },
        {
         "name": "Num_Bathrooms",
         "rawType": "int64",
         "type": "integer"
        },
        {
         "name": "Year_Built",
         "rawType": "int64",
         "type": "integer"
        },
        {
         "name": "Lot_Size",
         "rawType": "int64",
         "type": "integer"
        }
       ],
       "ref": "01961803-267f-4105-af26-0ee15aa1b97b",
       "rows": [
        [
         "0",
         "H100000",
         "574507",
         "1462",
         "3",
         "3",
         "2002",
         "4878"
        ],
        [
         "1",
         "H100001",
         "479260",
         "1727",
         "2",
         "2",
         "1979",
         "4943"
        ],
        [
         "2",
         "H100002",
         "597153",
         "1403",
         "5",
         "2",
         "1952",
         "5595"
        ],
        [
         "3",
         "H100003",
         "728454",
         "1646",
         "5",
         "2",
         "1992",
         "9305"
        ],
        [
         "4",
         "H100004",
         "464876",
         "853",
         "1",
         "1",
         "1956",
         "7407"
        ]
       ],
       "shape": {
        "columns": 7,
        "rows": 5
       }
      },
      "text/html": [
       "<div>\n",
       "<style scoped>\n",
       "    .dataframe tbody tr th:only-of-type {\n",
       "        vertical-align: middle;\n",
       "    }\n",
       "\n",
       "    .dataframe tbody tr th {\n",
       "        vertical-align: top;\n",
       "    }\n",
       "\n",
       "    .dataframe thead th {\n",
       "        text-align: right;\n",
       "    }\n",
       "</style>\n",
       "<table border=\"1\" class=\"dataframe\">\n",
       "  <thead>\n",
       "    <tr style=\"text-align: right;\">\n",
       "      <th></th>\n",
       "      <th>House_ID</th>\n",
       "      <th>Price</th>\n",
       "      <th>Area_sqft</th>\n",
       "      <th>Num_Bedrooms</th>\n",
       "      <th>Num_Bathrooms</th>\n",
       "      <th>Year_Built</th>\n",
       "      <th>Lot_Size</th>\n",
       "    </tr>\n",
       "  </thead>\n",
       "  <tbody>\n",
       "    <tr>\n",
       "      <th>0</th>\n",
       "      <td>H100000</td>\n",
       "      <td>574507</td>\n",
       "      <td>1462</td>\n",
       "      <td>3</td>\n",
       "      <td>3</td>\n",
       "      <td>2002</td>\n",
       "      <td>4878</td>\n",
       "    </tr>\n",
       "    <tr>\n",
       "      <th>1</th>\n",
       "      <td>H100001</td>\n",
       "      <td>479260</td>\n",
       "      <td>1727</td>\n",
       "      <td>2</td>\n",
       "      <td>2</td>\n",
       "      <td>1979</td>\n",
       "      <td>4943</td>\n",
       "    </tr>\n",
       "    <tr>\n",
       "      <th>2</th>\n",
       "      <td>H100002</td>\n",
       "      <td>597153</td>\n",
       "      <td>1403</td>\n",
       "      <td>5</td>\n",
       "      <td>2</td>\n",
       "      <td>1952</td>\n",
       "      <td>5595</td>\n",
       "    </tr>\n",
       "    <tr>\n",
       "      <th>3</th>\n",
       "      <td>H100003</td>\n",
       "      <td>728454</td>\n",
       "      <td>1646</td>\n",
       "      <td>5</td>\n",
       "      <td>2</td>\n",
       "      <td>1992</td>\n",
       "      <td>9305</td>\n",
       "    </tr>\n",
       "    <tr>\n",
       "      <th>4</th>\n",
       "      <td>H100004</td>\n",
       "      <td>464876</td>\n",
       "      <td>853</td>\n",
       "      <td>1</td>\n",
       "      <td>1</td>\n",
       "      <td>1956</td>\n",
       "      <td>7407</td>\n",
       "    </tr>\n",
       "  </tbody>\n",
       "</table>\n",
       "</div>"
      ],
      "text/plain": [
       "  House_ID   Price  Area_sqft  Num_Bedrooms  Num_Bathrooms  Year_Built  \\\n",
       "0  H100000  574507       1462             3              3        2002   \n",
       "1  H100001  479260       1727             2              2        1979   \n",
       "2  H100002  597153       1403             5              2        1952   \n",
       "3  H100003  728454       1646             5              2        1992   \n",
       "4  H100004  464876        853             1              1        1956   \n",
       "\n",
       "   Lot_Size  \n",
       "0      4878  \n",
       "1      4943  \n",
       "2      5595  \n",
       "3      9305  \n",
       "4      7407  "
      ]
     },
     "execution_count": 2,
     "metadata": {},
     "output_type": "execute_result"
    }
   ],
   "source": [
    "# Load the housing dataset\n",
    "house_data = pd.read_csv(\"data/housing_data.csv\")  # Adjust path if needed\n",
    "\n",
    "# Show first 5 rows\n",
    "house_data.head()\n"
   ]
  },
  {
   "cell_type": "markdown",
   "metadata": {},
   "source": [
    "### Step 2: Dataset Overview\n",
    "We check the data types, column names, and some basic statistics.  \n",
    "This helps us understand what kind of values we are working with.\n"
   ]
  },
  {
   "cell_type": "code",
   "execution_count": 3,
   "metadata": {},
   "outputs": [
    {
     "name": "stdout",
     "output_type": "stream",
     "text": [
      "<class 'pandas.core.frame.DataFrame'>\n",
      "RangeIndex: 2000 entries, 0 to 1999\n",
      "Data columns (total 7 columns):\n",
      " #   Column         Non-Null Count  Dtype \n",
      "---  ------         --------------  ----- \n",
      " 0   House_ID       2000 non-null   object\n",
      " 1   Price          2000 non-null   int64 \n",
      " 2   Area_sqft      2000 non-null   int64 \n",
      " 3   Num_Bedrooms   2000 non-null   int64 \n",
      " 4   Num_Bathrooms  2000 non-null   int64 \n",
      " 5   Year_Built     2000 non-null   int64 \n",
      " 6   Lot_Size       2000 non-null   int64 \n",
      "dtypes: int64(6), object(1)\n",
      "memory usage: 109.5+ KB\n"
     ]
    },
    {
     "data": {
      "application/vnd.microsoft.datawrangler.viewer.v0+json": {
       "columns": [
        {
         "name": "index",
         "rawType": "object",
         "type": "string"
        },
        {
         "name": "Price",
         "rawType": "float64",
         "type": "float"
        },
        {
         "name": "Area_sqft",
         "rawType": "float64",
         "type": "float"
        },
        {
         "name": "Num_Bedrooms",
         "rawType": "float64",
         "type": "float"
        },
        {
         "name": "Num_Bathrooms",
         "rawType": "float64",
         "type": "float"
        },
        {
         "name": "Year_Built",
         "rawType": "float64",
         "type": "float"
        },
        {
         "name": "Lot_Size",
         "rawType": "float64",
         "type": "float"
        }
       ],
       "ref": "5c7b0de9-e7df-475b-b497-65df0c7f3523",
       "rows": [
        [
         "count",
         "2000.0",
         "2000.0",
         "2000.0",
         "2000.0",
         "2000.0",
         "2000.0"
        ],
        [
         "mean",
         "506896.14",
         "1796.453",
         "2.9835",
         "1.966",
         "1985.6895",
         "6025.246"
        ],
        [
         "std",
         "147878.6481539452",
         "502.1851090313874",
         "1.4093334809157891",
         "0.8259449694418346",
         "21.159535739858832",
         "2008.5272645324446"
        ],
        [
         "min",
         "100000.0",
         "400.0",
         "1.0",
         "1.0",
         "1950.0",
         "1000.0"
        ],
        [
         "25%",
         "406600.25",
         "1445.0",
         "2.0",
         "1.0",
         "1967.0",
         "4664.0"
        ],
        [
         "50%",
         "506703.0",
         "1799.5",
         "3.0",
         "2.0",
         "1986.0",
         "6010.5"
        ],
        [
         "75%",
         "602445.75",
         "2132.0",
         "4.0",
         "3.0",
         "2003.0",
         "7414.0"
        ],
        [
         "max",
         "1077909.0",
         "3763.0",
         "5.0",
         "3.0",
         "2022.0",
         "13088.0"
        ]
       ],
       "shape": {
        "columns": 6,
        "rows": 8
       }
      },
      "text/html": [
       "<div>\n",
       "<style scoped>\n",
       "    .dataframe tbody tr th:only-of-type {\n",
       "        vertical-align: middle;\n",
       "    }\n",
       "\n",
       "    .dataframe tbody tr th {\n",
       "        vertical-align: top;\n",
       "    }\n",
       "\n",
       "    .dataframe thead th {\n",
       "        text-align: right;\n",
       "    }\n",
       "</style>\n",
       "<table border=\"1\" class=\"dataframe\">\n",
       "  <thead>\n",
       "    <tr style=\"text-align: right;\">\n",
       "      <th></th>\n",
       "      <th>Price</th>\n",
       "      <th>Area_sqft</th>\n",
       "      <th>Num_Bedrooms</th>\n",
       "      <th>Num_Bathrooms</th>\n",
       "      <th>Year_Built</th>\n",
       "      <th>Lot_Size</th>\n",
       "    </tr>\n",
       "  </thead>\n",
       "  <tbody>\n",
       "    <tr>\n",
       "      <th>count</th>\n",
       "      <td>2.000000e+03</td>\n",
       "      <td>2000.000000</td>\n",
       "      <td>2000.000000</td>\n",
       "      <td>2000.000000</td>\n",
       "      <td>2000.000000</td>\n",
       "      <td>2000.000000</td>\n",
       "    </tr>\n",
       "    <tr>\n",
       "      <th>mean</th>\n",
       "      <td>5.068961e+05</td>\n",
       "      <td>1796.453000</td>\n",
       "      <td>2.983500</td>\n",
       "      <td>1.966000</td>\n",
       "      <td>1985.689500</td>\n",
       "      <td>6025.246000</td>\n",
       "    </tr>\n",
       "    <tr>\n",
       "      <th>std</th>\n",
       "      <td>1.478786e+05</td>\n",
       "      <td>502.185109</td>\n",
       "      <td>1.409333</td>\n",
       "      <td>0.825945</td>\n",
       "      <td>21.159536</td>\n",
       "      <td>2008.527265</td>\n",
       "    </tr>\n",
       "    <tr>\n",
       "      <th>min</th>\n",
       "      <td>1.000000e+05</td>\n",
       "      <td>400.000000</td>\n",
       "      <td>1.000000</td>\n",
       "      <td>1.000000</td>\n",
       "      <td>1950.000000</td>\n",
       "      <td>1000.000000</td>\n",
       "    </tr>\n",
       "    <tr>\n",
       "      <th>25%</th>\n",
       "      <td>4.066002e+05</td>\n",
       "      <td>1445.000000</td>\n",
       "      <td>2.000000</td>\n",
       "      <td>1.000000</td>\n",
       "      <td>1967.000000</td>\n",
       "      <td>4664.000000</td>\n",
       "    </tr>\n",
       "    <tr>\n",
       "      <th>50%</th>\n",
       "      <td>5.067030e+05</td>\n",
       "      <td>1799.500000</td>\n",
       "      <td>3.000000</td>\n",
       "      <td>2.000000</td>\n",
       "      <td>1986.000000</td>\n",
       "      <td>6010.500000</td>\n",
       "    </tr>\n",
       "    <tr>\n",
       "      <th>75%</th>\n",
       "      <td>6.024458e+05</td>\n",
       "      <td>2132.000000</td>\n",
       "      <td>4.000000</td>\n",
       "      <td>3.000000</td>\n",
       "      <td>2003.000000</td>\n",
       "      <td>7414.000000</td>\n",
       "    </tr>\n",
       "    <tr>\n",
       "      <th>max</th>\n",
       "      <td>1.077909e+06</td>\n",
       "      <td>3763.000000</td>\n",
       "      <td>5.000000</td>\n",
       "      <td>3.000000</td>\n",
       "      <td>2022.000000</td>\n",
       "      <td>13088.000000</td>\n",
       "    </tr>\n",
       "  </tbody>\n",
       "</table>\n",
       "</div>"
      ],
      "text/plain": [
       "              Price    Area_sqft  Num_Bedrooms  Num_Bathrooms   Year_Built  \\\n",
       "count  2.000000e+03  2000.000000   2000.000000    2000.000000  2000.000000   \n",
       "mean   5.068961e+05  1796.453000      2.983500       1.966000  1985.689500   \n",
       "std    1.478786e+05   502.185109      1.409333       0.825945    21.159536   \n",
       "min    1.000000e+05   400.000000      1.000000       1.000000  1950.000000   \n",
       "25%    4.066002e+05  1445.000000      2.000000       1.000000  1967.000000   \n",
       "50%    5.067030e+05  1799.500000      3.000000       2.000000  1986.000000   \n",
       "75%    6.024458e+05  2132.000000      4.000000       3.000000  2003.000000   \n",
       "max    1.077909e+06  3763.000000      5.000000       3.000000  2022.000000   \n",
       "\n",
       "           Lot_Size  \n",
       "count   2000.000000  \n",
       "mean    6025.246000  \n",
       "std     2008.527265  \n",
       "min     1000.000000  \n",
       "25%     4664.000000  \n",
       "50%     6010.500000  \n",
       "75%     7414.000000  \n",
       "max    13088.000000  "
      ]
     },
     "execution_count": 3,
     "metadata": {},
     "output_type": "execute_result"
    }
   ],
   "source": [
    "# Show column names, data types, and non-null counts\n",
    "house_data.info()\n",
    "\n",
    "# Show basic statistics for numeric columns\n",
    "house_data.describe()"
   ]
  },
  {
   "cell_type": "markdown",
   "metadata": {},
   "source": [
    "### interpretation\n",
    "\n",
    "- There are 2000 rows \n",
    "- `Price` ranges from **100,000 to 1,077,909 CAD**\n",
    "- `Area_sqft` ranges from **400 to 3,763 sqft**\n",
    "- `Lot_Size` ranges from **1,000 to 13,088 sqft**\n",
    "\n",
    "This confirms these columns have large numerical spreads and need scaling.\n",
    "\n",
    "- Most columns are numeric and clean — good for normalization.\n",
    "- House_ID is an ID and should not be scaled.\n",
    "- Price, Area_sqft, and Lot_Size have a wide range — these are ideal for Min-Max scaling.\n",
    "- Year_Built is numeric, but it's time-based — we won't scale it unless needed for modeling.\n",
    "- Bed and bath counts are small integers and can be scaled if used in models.\n"
   ]
  },
  {
   "cell_type": "markdown",
   "metadata": {},
   "source": [
    "### Step 3: Quick Data Quality Check\n",
    "\n",
    "Before scaling, we check for:\n",
    "- Missing values\n",
    "- Duplicate rows\n",
    "- Zero values (may be valid or defaults)\n",
    "\n",
    "These help catch hidden issues without changing the original data.\n"
   ]
  },
  {
   "cell_type": "code",
   "execution_count": 4,
   "metadata": {},
   "outputs": [
    {
     "name": "stdout",
     "output_type": "stream",
     "text": [
      "Missing values per column:\n",
      "House_ID         0\n",
      "Price            0\n",
      "Area_sqft        0\n",
      "Num_Bedrooms     0\n",
      "Num_Bathrooms    0\n",
      "Year_Built       0\n",
      "Lot_Size         0\n",
      "dtype: int64\n",
      "\n",
      "Number of duplicate rows:\n",
      "0\n",
      "\n",
      "Columns with zero values:\n",
      "Series([], dtype: int64)\n"
     ]
    }
   ],
   "source": [
    "# Check for missing values\n",
    "print(\"Missing values per column:\")\n",
    "print(house_data.isnull().sum())\n",
    "\n",
    "# Check for duplicate rows\n",
    "print(\"\\nNumber of duplicate rows:\")\n",
    "print(house_data.duplicated().sum())\n",
    "\n",
    "# Check for zero values in numeric columns\n",
    "numeric_columns = house_data.select_dtypes(include='number').columns\n",
    "zero_counts = (house_data[numeric_columns] == 0).sum()\n",
    "print(\"\\nColumns with zero values:\")\n",
    "print(zero_counts[zero_counts > 0])\n"
   ]
  },
  {
   "cell_type": "markdown",
   "metadata": {},
   "source": [
    "### What We Found\n",
    "\n",
    "- No missing values or duplicate rows — the dataset is complete and clean.\n",
    "- No zero values found in numeric columns.\n",
    "- We're ready to scale confidently since the data doesn't need cleaning.\n"
   ]
  },
  {
   "cell_type": "markdown",
   "metadata": {},
   "source": [
    "### Step 3.2 :  Columns Selected for Normalization\n",
    "\n",
    "We chose the following columns for Min-Max normalization:\n",
    "\n",
    "- Price\n",
    "- Area_sqft\n",
    "- Lot_Size\n",
    "\n",
    "These columns have large numeric ranges and represent measurable values.  \n",
    "We will now check them for outliers before applying scaling.\n"
   ]
  },
  {
   "cell_type": "markdown",
   "metadata": {},
   "source": [
    "### Step 3.3: Outlier Check in Columns to Be Normalized\n",
    "\n",
    "Now we check for outliers in the columns we plan to normalize.  \n",
    "Outliers can stretch the min-max range and affect how other values are scaled.\n"
   ]
  },
  {
   "cell_type": "code",
   "execution_count": 5,
   "metadata": {},
   "outputs": [
    {
     "name": "stdout",
     "output_type": "stream",
     "text": [
      "Price has 17 outliers\n",
      "Area_sqft has 13 outliers\n",
      "Lot_Size has 5 outliers\n"
     ]
    }
   ],
   "source": [
    "# Define the columns we plan to normalize\n",
    "columns_to_normalize = ['Price', 'Area_sqft', 'Lot_Size']\n",
    "\n",
    "# Outlier check using IQR method\n",
    "for column in columns_to_normalize:\n",
    "    q1 = house_data[column].quantile(0.25)\n",
    "    q3 = house_data[column].quantile(0.75)\n",
    "    iqr = q3 - q1\n",
    "    lower_bound = q1 - 1.5 * iqr\n",
    "    upper_bound = q3 + 1.5 * iqr\n",
    "    outliers = house_data[(house_data[column] < lower_bound) | (house_data[column] > upper_bound)]\n",
    "    print(f\"{column} has {len(outliers)} outliers\")\n"
   ]
  },
  {
   "cell_type": "markdown",
   "metadata": {},
   "source": [
    "### What We Found from Outlier Check\n",
    "\n",
    "We used the IQR method to detect outliers in the selected columns.\n",
    "\n",
    "- Price has 17 outliers\n",
    "- Area_sqft has 13 outliers\n",
    "- Lot_Size has 5 outliers\n",
    "\n",
    "These are extreme values far from the typical range.  \n",
    "We are not removing them because they may be valid, but we keep them in mind.  \n",
    "Outliers can stretch the min and max values, which can make most data points look small after scaling.\n"
   ]
  },
  {
   "cell_type": "markdown",
   "metadata": {},
   "source": [
    "### Step 4: Manual Min-Max Normalization\n",
    "\n",
    "We use the Min-Max formula to scale values between 0 and 1:\n",
    "\n",
    "    scaled = (value - min) / (max - min)\n",
    "\n",
    "This keeps original data safe and makes the process easy to repeat.\n"
   ]
  },
  {
   "cell_type": "code",
   "execution_count": 6,
   "metadata": {},
   "outputs": [
    {
     "data": {
      "application/vnd.microsoft.datawrangler.viewer.v0+json": {
       "columns": [
        {
         "name": "index",
         "rawType": "int64",
         "type": "integer"
        },
        {
         "name": "Price_norm",
         "rawType": "float64",
         "type": "float"
        },
        {
         "name": "Area_sqft_norm",
         "rawType": "float64",
         "type": "float"
        },
        {
         "name": "Lot_Size_norm",
         "rawType": "float64",
         "type": "float"
        }
       ],
       "ref": "ad05ebd7-db73-454e-9241-dd6ce8bc03b1",
       "rows": [
        [
         "0",
         "0.4852261304477206",
         "0.3157894736842105",
         "0.32081403044341494"
        ],
        [
         "1",
         "0.3878274972415634",
         "0.39458816532857566",
         "0.3261912640635341"
        ],
        [
         "2",
         "0.5083837044142144",
         "0.2982456140350877",
         "0.38012905360688287"
        ],
        [
         "3",
         "0.642650798796207",
         "0.3705025275052037",
         "0.6870450033090668"
        ],
        [
         "4",
         "0.3731185621566015",
         "0.13470115967885815",
         "0.5300297816015883"
        ]
       ],
       "shape": {
        "columns": 3,
        "rows": 5
       }
      },
      "text/html": [
       "<div>\n",
       "<style scoped>\n",
       "    .dataframe tbody tr th:only-of-type {\n",
       "        vertical-align: middle;\n",
       "    }\n",
       "\n",
       "    .dataframe tbody tr th {\n",
       "        vertical-align: top;\n",
       "    }\n",
       "\n",
       "    .dataframe thead th {\n",
       "        text-align: right;\n",
       "    }\n",
       "</style>\n",
       "<table border=\"1\" class=\"dataframe\">\n",
       "  <thead>\n",
       "    <tr style=\"text-align: right;\">\n",
       "      <th></th>\n",
       "      <th>Price_norm</th>\n",
       "      <th>Area_sqft_norm</th>\n",
       "      <th>Lot_Size_norm</th>\n",
       "    </tr>\n",
       "  </thead>\n",
       "  <tbody>\n",
       "    <tr>\n",
       "      <th>0</th>\n",
       "      <td>0.485226</td>\n",
       "      <td>0.315789</td>\n",
       "      <td>0.320814</td>\n",
       "    </tr>\n",
       "    <tr>\n",
       "      <th>1</th>\n",
       "      <td>0.387827</td>\n",
       "      <td>0.394588</td>\n",
       "      <td>0.326191</td>\n",
       "    </tr>\n",
       "    <tr>\n",
       "      <th>2</th>\n",
       "      <td>0.508384</td>\n",
       "      <td>0.298246</td>\n",
       "      <td>0.380129</td>\n",
       "    </tr>\n",
       "    <tr>\n",
       "      <th>3</th>\n",
       "      <td>0.642651</td>\n",
       "      <td>0.370503</td>\n",
       "      <td>0.687045</td>\n",
       "    </tr>\n",
       "    <tr>\n",
       "      <th>4</th>\n",
       "      <td>0.373119</td>\n",
       "      <td>0.134701</td>\n",
       "      <td>0.530030</td>\n",
       "    </tr>\n",
       "  </tbody>\n",
       "</table>\n",
       "</div>"
      ],
      "text/plain": [
       "   Price_norm  Area_sqft_norm  Lot_Size_norm\n",
       "0    0.485226        0.315789       0.320814\n",
       "1    0.387827        0.394588       0.326191\n",
       "2    0.508384        0.298246       0.380129\n",
       "3    0.642651        0.370503       0.687045\n",
       "4    0.373119        0.134701       0.530030"
      ]
     },
     "execution_count": 6,
     "metadata": {},
     "output_type": "execute_result"
    }
   ],
   "source": [
    "# Re-running the normalization code here with the actual dataset in memory to verify and display the output\n",
    "\n",
    "# Columns selected earlier for normalization\n",
    "columns_to_normalize = ['Price', 'Area_sqft', 'Lot_Size']\n",
    "\n",
    "# Define Min-Max scaling function\n",
    "def min_max_scale(column):\n",
    "    min_val = column.min()\n",
    "    max_val = column.max()\n",
    "    \n",
    "    if min_val == max_val:\n",
    "        return column.apply(lambda x: 0.0), min_val, max_val\n",
    "    \n",
    "    scaled_column = (column - min_val) / (max_val - min_val)\n",
    "    return scaled_column, min_val, max_val\n",
    "\n",
    "# Apply scaling\n",
    "min_max_info = {}\n",
    "for col in columns_to_normalize:\n",
    "    scaled_col, min_val, max_val = min_max_scale(house_data[col])\n",
    "    house_data[col + '_norm'] = scaled_col\n",
    "    min_max_info[col] = {'min': min_val, 'max': max_val}\n",
    "\n",
    "# Show scaled columns\n",
    "house_data[[col + '_norm' for col in columns_to_normalize]].head()\n"
   ]
  },
  {
   "cell_type": "markdown",
   "metadata": {},
   "source": [
    "###  Final Output Interpretation\n",
    "\n",
    "We applied **manual Min-Max scaling** to three columns:  \n",
    "- Price  \n",
    "- Area_sqft  \n",
    "- Lot_Size\n",
    "\n",
    "Each new value was calculated using this formula:\n",
    "\n",
    "    (value - min) / (max - min)\n",
    "\n",
    "This changes all values to a **range between 0 and 1**.\n",
    "\n",
    "For example:\n",
    "- A Price of 574,507 became **0.4852**\n",
    "- An Area of 1,462 sqft became **0.3157**\n",
    "- A Lot Size of 4,878 became **0.3208**\n",
    "\n",
    "These new values are stored in:\n",
    "- `Price_norm`\n",
    "- `Area_sqft_norm`\n",
    "- `Lot_Size_norm`\n",
    "\n",
    "We did **not overwrite the original data** — so both raw and scaled values are available for comparison.  \n",
    "Also, we stored the original min and max for each column to keep the process reproducible.\n"
   ]
  },
  {
   "cell_type": "markdown",
   "metadata": {},
   "source": [
    "### Step 5 : Show First 5 Rows of Original and Normalized Price\n"
   ]
  },
  {
   "cell_type": "code",
   "execution_count": 7,
   "metadata": {},
   "outputs": [
    {
     "data": {
      "application/vnd.microsoft.datawrangler.viewer.v0+json": {
       "columns": [
        {
         "name": "index",
         "rawType": "object",
         "type": "string"
        },
        {
         "name": "Original Price (CAD)",
         "rawType": "int64",
         "type": "integer"
        },
        {
         "name": "Normalized Price (0–1)",
         "rawType": "float64",
         "type": "float"
        }
       ],
       "ref": "87d993e5-6d95-4b95-b029-f0e48f03fd6f",
       "rows": [
        [
         "Row 0",
         "574507",
         "0.4852261304477206"
        ],
        [
         "Row 1",
         "479260",
         "0.3878274972415634"
        ],
        [
         "Row 2",
         "597153",
         "0.5083837044142144"
        ],
        [
         "Row 3",
         "728454",
         "0.642650798796207"
        ],
        [
         "Row 4",
         "464876",
         "0.3731185621566015"
        ]
       ],
       "shape": {
        "columns": 2,
        "rows": 5
       }
      },
      "text/html": [
       "<div>\n",
       "<style scoped>\n",
       "    .dataframe tbody tr th:only-of-type {\n",
       "        vertical-align: middle;\n",
       "    }\n",
       "\n",
       "    .dataframe tbody tr th {\n",
       "        vertical-align: top;\n",
       "    }\n",
       "\n",
       "    .dataframe thead th {\n",
       "        text-align: right;\n",
       "    }\n",
       "</style>\n",
       "<table border=\"1\" class=\"dataframe\">\n",
       "  <thead>\n",
       "    <tr style=\"text-align: right;\">\n",
       "      <th></th>\n",
       "      <th>Original Price (CAD)</th>\n",
       "      <th>Normalized Price (0–1)</th>\n",
       "    </tr>\n",
       "  </thead>\n",
       "  <tbody>\n",
       "    <tr>\n",
       "      <th>Row 0</th>\n",
       "      <td>574507</td>\n",
       "      <td>0.485226</td>\n",
       "    </tr>\n",
       "    <tr>\n",
       "      <th>Row 1</th>\n",
       "      <td>479260</td>\n",
       "      <td>0.387827</td>\n",
       "    </tr>\n",
       "    <tr>\n",
       "      <th>Row 2</th>\n",
       "      <td>597153</td>\n",
       "      <td>0.508384</td>\n",
       "    </tr>\n",
       "    <tr>\n",
       "      <th>Row 3</th>\n",
       "      <td>728454</td>\n",
       "      <td>0.642651</td>\n",
       "    </tr>\n",
       "    <tr>\n",
       "      <th>Row 4</th>\n",
       "      <td>464876</td>\n",
       "      <td>0.373119</td>\n",
       "    </tr>\n",
       "  </tbody>\n",
       "</table>\n",
       "</div>"
      ],
      "text/plain": [
       "       Original Price (CAD)  Normalized Price (0–1)\n",
       "Row 0                574507                0.485226\n",
       "Row 1                479260                0.387827\n",
       "Row 2                597153                0.508384\n",
       "Row 3                728454                0.642651\n",
       "Row 4                464876                0.373119"
      ]
     },
     "execution_count": 7,
     "metadata": {},
     "output_type": "execute_result"
    }
   ],
   "source": [
    "# Create a simple comparison table for the first 5 rows\n",
    "comparison_table = house_data[['Price', 'Price_norm']].head().copy()\n",
    "\n",
    "# Add a row index label for clarity\n",
    "comparison_table.index = [f'Row {i}' for i in comparison_table.index]\n",
    "\n",
    "# Rename columns for display\n",
    "comparison_table.columns = ['Original Price (CAD)', 'Normalized Price (0–1)']\n",
    "\n",
    "comparison_table\n"
   ]
  },
  {
   "cell_type": "markdown",
   "metadata": {},
   "source": [
    "- We applied **Min-Max normalization** to the Price column.\n",
    "- Formula used:  \n",
    "  `(value - min) / (max - min)`\n",
    "- The original Price values were converted to a **range between 0 and 1**.\n",
    "- The **relative order and spacing** between values stayed the same.\n",
    "- This makes the data easier to work with in machine learning models.\n",
    "- It also ensures **fair comparison** between features with different units or scales.\n"
   ]
  },
  {
   "cell_type": "markdown",
   "metadata": {},
   "source": [
    "### Step 6: Visual Check – Before vs After Normalization\n",
    "\n",
    "We now compare the original and scaled values to see the effect of normalization.  \n",
    "This helps confirm the transformation was applied correctly.\n"
   ]
  },
  {
   "cell_type": "code",
   "execution_count": 8,
   "metadata": {},
   "outputs": [
    {
     "data": {
      "image/png": "[encoded data removed]",
      "text/plain": [
       "<Figure size 1200x400 with 1 Axes>"
      ]
     },
     "metadata": {},
     "output_type": "display_data"
    },
    {
     "data": {
      "image/png": "[encoded data removed]",
      "text/plain": [
       "<Figure size 1200x400 with 1 Axes>"
      ]
     },
     "metadata": {},
     "output_type": "display_data"
    }
   ],
   "source": [
    "# Create two separate bar charts:\n",
    "# One showing actual Price values, the other showing normalized Price values (0 to 1 scale)\n",
    "\n",
    "# Sample the first 10 rows\n",
    "sample_data = house_data.iloc[:10]\n",
    "x_labels = [f'Row {i}' for i in sample_data.index]\n",
    "\n",
    "# Plot original Price values\n",
    "plt.figure(figsize=(12, 4))\n",
    "plt.bar(x_labels, sample_data['Price'], color='cornflowerblue')\n",
    "plt.title('Original Price Values ')\n",
    "plt.ylabel('Price (CAD)')\n",
    "plt.xticks(rotation=45)\n",
    "plt.tight_layout()\n",
    "plt.show()\n",
    "\n",
    "# Plot normalized Price values\n",
    "plt.figure(figsize=(12, 4))\n",
    "plt.bar(x_labels, sample_data['Price_norm'], color='mediumseagreen')\n",
    "plt.title('Normalized Price Values are in btw 0 to 1')\n",
    "plt.ylabel('Normalized Value')\n",
    "plt.xticks(rotation=45)\n",
    "plt.tight_layout()\n",
    "plt.show()\n"
   ]
  },
  {
   "cell_type": "markdown",
   "metadata": {},
   "source": [
    "These two bar charts help us clearly understand the effect of Min-Max normalization.\n",
    "\n",
    "- The first chart shows the actual Price values for the first 10 houses.  \n",
    "  The prices vary widely, from low to high.\n",
    "\n",
    "- The second chart shows the same prices after applying Min-Max scaling.  \n",
    "  Now, all values are between 0 and 1.\n",
    "\n",
    "Even though the height of the bars is different, the overall pattern stays the same.  \n",
    "This shows that Min-Max scaling keeps the order and spacing between values,  \n",
    "but changes the range to make all values fit between 0 and 1.\n",
    "\n",
    "This helps models compare features more fairly, especially when units are different.\n"
   ]
  },
  {
   "cell_type": "markdown",
   "metadata": {},
   "source": [
    "##  Conclusion\n",
    "\n",
    "In this notebook, we applied **manual Min-Max normalization** to important numeric features in our housing dataset.\n",
    "\n",
    "### Why We Did This:\n",
    "- Features like Price, Area, and Lot Size have large value ranges.\n",
    "- Other features like Number of Bedrooms are on a much smaller scale.\n",
    "- This mismatch in scale can **confuse machine learning models** like KNN, linear regression, and neural networks.\n",
    "- Normalization puts all features on a common scale (0 to 1), which helps models **treat them fairly**.\n",
    "\n",
    "### What We Achieved:\n",
    "- We checked data quality (missing values, outliers) before scaling.\n",
    "- We normalized Price, Area_sqft, and Lot_Size using the **Min-Max method**.\n",
    "- We kept original values intact and stored min/max values for reproducibility.\n",
    "- We visualized and interpreted the effect of scaling using charts and examples.\n",
    "\n",
    "### How This Helps Going Forward:\n",
    "- The normalized dataset is now **ready for training machine learning models**.\n",
    "- Models will perform better because no feature dominates due to its large scale.\n",
    "- This also improves **convergence speed, accuracy, and interpretability** during training.\n",
    "\n",
    "In the next steps, we can confidently use this scaled data for:\n",
    "- K-Nearest Neighbors\n",
    "- Linear or logistic regression\n",
    "- Neural networks and more\n",
    "\n",
    "Normalization ensures our features are balanced — which is a critical step in building good models.\n"
   ]
  },
  {
   "cell_type": "markdown",
   "metadata": {},
   "source": [
    "### 🔎 Talking Point 1 — [Insert your review comment here]\n",
    "\n",
    "- Code Quality Improvements: \n",
    "  - The normalized values are not explicitly rounded. To round off to 4 digits for more clarity. \n",
    "  - The code normalizes all numeric columns, which may include ID, Year, or other irrelevant fields.\n",
    "\n",
    "Reviwed by: Team 8  \n",
    "- Name: Mandeep Singh Brar\n",
    "- Name: Babandeep\n",
    "- Name: Hasyashri Bhatt"
   ]
  },
  {
   "cell_type": "markdown",
   "metadata": {},
   "source": []
  }
 ],
 "metadata": {
  "kernelspec": {
   "display_name": "Python 3",
   "language": "python",
   "name": "python3"
  },
  "language_info": {
   "codemirror_mode": {
    "name": "ipython",
    "version": 3
   },
   "file_extension": ".py",
   "mimetype": "text/x-python",
   "name": "python",
   "nbconvert_exporter": "python",
   "pygments_lexer": "ipython3",
   "version": "3.13.4"
  }
 },
 "nbformat": 4,
 "nbformat_minor": 2
}
